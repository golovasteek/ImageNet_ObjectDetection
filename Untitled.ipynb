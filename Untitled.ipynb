{
 "cells": [
  {
   "cell_type": "code",
   "execution_count": 2,
   "metadata": {
    "collapsed": true
   },
   "outputs": [],
   "source": [
    "import sys\n",
    "import os\n",
    "import itertools\n",
    "from tqdm import tqdm, tqdm_notebook\n",
    "\n",
    "PROJECT_DIR = \"/home/enick/Kaggle/ImageNet/ObjectDetection\"\n",
    "if PROJECT_DIR not in sys.path:\n",
    "    sys.path.append(PROJECT_DIR)\n",
    "os.chdir(PROJECT_DIR)\n",
    "\n",
    "import tensorflow as tf\n",
    "\n",
    "import matplotlib.pyplot as plt\n",
    "\n",
    "from tools import reader\n",
    "\n",
    "import pandas as pd\n",
    "%matplotlib inline\n",
    "plt.rcParams[\"figure.figsize\"] = [8., 8.]\n",
    "FILE = \"one_biggest_3000.csv\"\n"
   ]
  },
  {
   "cell_type": "code",
   "execution_count": 5,
   "metadata": {
    "collapsed": true
   },
   "outputs": [],
   "source": [
    "if os.path.exists(FILE):\n",
    "    raise RuntimeError()\n",
    "    \n",
    "with open(FILE, \"w\") as f:\n",
    "    f.write(\",Image,class_id,class_name\\n\")\n",
    "    f.writelines(\n",
    "        \"{},{},{},{}\\n\".format(i, item[0], item[1], item[2])\n",
    "        for i, item in itertools.izip(range(3000), reader.list_file_class()))"
   ]
  },
  {
   "cell_type": "code",
   "execution_count": 3,
   "metadata": {
    "collapsed": true
   },
   "outputs": [],
   "source": [
    "data = pd.read_csv(FILE, index_col=0)"
   ]
  },
  {
   "cell_type": "code",
   "execution_count": 4,
   "metadata": {
    "collapsed": true
   },
   "outputs": [],
   "source": [
    "dataset = tf.data.Dataset.from_tensor_slices((data.Image.as_matrix(), pd.get_dummies(data.class_id)))"
   ]
  },
  {
   "cell_type": "code",
   "execution_count": 33,
   "metadata": {
    "collapsed": true
   },
   "outputs": [],
   "source": [
    "def input_parser(file_name, labels):\n",
    "    with tf.device(\"/cpu:0\"):\n",
    "        image_data = tf.read_file(file_name)\n",
    "        image_parsed = tf.image.decode_jpeg(image_data, channels=3)\n",
    "        print image_parsed.shape\n",
    "        image_parsed = tf.image.resize_image_with_crop_or_pad(image_parsed, 482, 415)\n",
    "        # image_parsed = tf.cast(image_parsed, dtype=tf.float16)\n",
    "        # image_parsed = tf.image.per_image_standardization(image_parsed)\n",
    "        return image_parsed, labels"
   ]
  },
  {
   "cell_type": "code",
   "execution_count": 34,
   "metadata": {},
   "outputs": [
    {
     "name": "stdout",
     "output_type": "stream",
     "text": [
      "(?, ?, 3)\n"
     ]
    }
   ],
   "source": [
    "img_dataset = dataset.map(input_parser)"
   ]
  },
  {
   "cell_type": "code",
   "execution_count": 18,
   "metadata": {
    "collapsed": true
   },
   "outputs": [],
   "source": [
    "LABELS = 152 # Dynamically get this number\n",
    "def model_function(data, is_training):\n",
    "    conv = data\n",
    "    conv = tf.layers.conv2d(\n",
    "        inputs=conv,\n",
    "        filters=16,\n",
    "        padding='valid',\n",
    "        kernel_size=3,\n",
    "        strides=2,\n",
    "        activation=tf.nn.relu\n",
    "    )\n",
    "    conv = tf.layers.max_pooling2d(\n",
    "        conv,\n",
    "        pool_size=[2, 2],\n",
    "        strides=2\n",
    "    )\n",
    "    \n",
    "    conv = tf.layers.conv2d(\n",
    "        inputs=conv,\n",
    "        filters=32,\n",
    "        padding='valid',\n",
    "        kernel_size=3,\n",
    "        strides=2,\n",
    "        activation=tf.nn.relu\n",
    "    )\n",
    "    conv = tf.layers.max_pooling2d(\n",
    "        conv,\n",
    "        pool_size=[2, 2],\n",
    "        strides=2\n",
    "    )\n",
    "\n",
    "    conv = tf.layers.conv2d(\n",
    "        inputs=conv,\n",
    "        filters=32,\n",
    "        padding='same',\n",
    "        kernel_size=3,\n",
    "        strides=2,\n",
    "        activation=tf.nn.relu\n",
    "    )\n",
    "    conv = tf.layers.max_pooling2d(\n",
    "        conv,\n",
    "        pool_size=[2, 2],\n",
    "        strides=2\n",
    "    )\n",
    "        \n",
    "    shape = conv.shape.as_list()\n",
    "    print shape\n",
    "    print [-1, shape[1] * shape[2] * shape[3]]\n",
    "    pool_flat = tf.reshape(conv, [-1, shape[1] * shape[2] * shape[3]])\n",
    "    dense = tf.layers.dense(\n",
    "            inputs=pool_flat,\n",
    "            units=1000,\n",
    "            activation=tf.nn.relu\n",
    "        )\n",
    "    logits = tf.layers.dense(\n",
    "        inputs=dense,\n",
    "        units=LABELS\n",
    "    )\n",
    "    return logits"
   ]
  },
  {
   "cell_type": "code",
   "execution_count": 35,
   "metadata": {},
   "outputs": [],
   "source": [
    "BATCH_SIZE = 40\n",
    "batch_dataset = img_dataset.batch(BATCH_SIZE)\n",
    "iterator = batch_dataset.make_one_shot_iterator()\n",
    "next_elem = iterator.get_next()\n",
    "\n",
    "# logits = model_function(next_elem[0], True)\n",
    "# loss = tf.losses.softmax_cross_entropy(\n",
    "#     logits=logits, onehot_labels=next_elem[1])\n",
    "\n",
    "# optimizer = tf.train.AdamOptimizer(learning_rate=0.0001).minimize(loss)\n",
    "\n",
    "loss = tf.constant(0)\n",
    "optimizer = next_elem[0]"
   ]
  },
  {
   "cell_type": "code",
   "execution_count": 36,
   "metadata": {
    "scrolled": true
   },
   "outputs": [
    {
     "data": {
      "application/vnd.jupyter.widget-view+json": {
       "model_id": "d86d5803a7d34c05940763e41b515f25"
      }
     },
     "metadata": {},
     "output_type": "display_data"
    },
    {
     "name": "stdout",
     "output_type": "stream",
     "text": [
      "0 0\n",
      "50 0\n",
      "Finished\n"
     ]
    }
   ],
   "source": [
    "with tf.Session() as sess:\n",
    "    sess.run(tf.global_variables_initializer())\n",
    "    try:\n",
    "        for i in tqdm_notebook(range(100000)):\n",
    "            opt, l = sess.run([optimizer, loss])\n",
    "            if i % 50 == 0:\n",
    "                print i, l\n",
    "    except tf.errors.OutOfRangeError:\n",
    "        print \"Finished\""
   ]
  },
  {
   "cell_type": "code",
   "execution_count": null,
   "metadata": {
    "collapsed": true
   },
   "outputs": [],
   "source": []
  }
 ],
 "metadata": {
  "kernelspec": {
   "display_name": "Python 2",
   "language": "python",
   "name": "python2"
  },
  "language_info": {
   "codemirror_mode": {
    "name": "ipython",
    "version": 2
   },
   "file_extension": ".py",
   "mimetype": "text/x-python",
   "name": "python",
   "nbconvert_exporter": "python",
   "pygments_lexer": "ipython2",
   "version": "2.7.14"
  }
 },
 "nbformat": 4,
 "nbformat_minor": 2
}
